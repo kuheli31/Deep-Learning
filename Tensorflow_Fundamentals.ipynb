{
  "nbformat": 4,
  "nbformat_minor": 0,
  "metadata": {
    "colab": {
      "provenance": [],
      "authorship_tag": "ABX9TyOX8y7pvEo5Fnh3mZyMHrtO",
      "include_colab_link": true
    },
    "kernelspec": {
      "name": "python3",
      "display_name": "Python 3"
    },
    "language_info": {
      "name": "python"
    }
  },
  "cells": [
    {
      "cell_type": "markdown",
      "metadata": {
        "id": "view-in-github",
        "colab_type": "text"
      },
      "source": [
        "<a href=\"https://colab.research.google.com/github/kuheli31/Deep-Learning/blob/main/Tensorflow_Fundamentals.ipynb\" target=\"_parent\"><img src=\"https://colab.research.google.com/assets/colab-badge.svg\" alt=\"Open In Colab\"/></a>"
      ]
    },
    {
      "cell_type": "markdown",
      "source": [
        "\n",
        "# In this notebook , we're going to cover some of the most fundamental concepts of the tensors using TensorFlow.\n",
        "\n",
        "### We're going to cover:\n",
        "\n",
        "* Introduction to Tensors\n",
        "* Getting information from tensors.\n",
        "* Manipulating tensors.\n",
        "* Tensors & NumPy\n",
        "* Using @tf.function() (a way to speed up your regular Python functions)\n",
        "* Using GPUs with Tensorflow (or TPUs)"
      ],
      "metadata": {
        "id": "XfFVUQSAzW7X"
      }
    },
    {
      "cell_type": "markdown",
      "source": [
        "## Introduction to Tensors"
      ],
      "metadata": {
        "id": "bWXBlz7C1YtO"
      }
    },
    {
      "cell_type": "code",
      "source": [
        "# Import Tensorflow\n",
        "import tensorflow as tf\n",
        "print(tf.__version__)"
      ],
      "metadata": {
        "colab": {
          "base_uri": "https://localhost:8080/"
        },
        "id": "co5_83WG1WUT",
        "outputId": "46656f50-cbf4-4bf2-bf9a-b4f97745c492"
      },
      "execution_count": 7,
      "outputs": [
        {
          "output_type": "stream",
          "name": "stdout",
          "text": [
            "2.18.0\n"
          ]
        }
      ]
    },
    {
      "cell_type": "code",
      "source": [
        "# Create tensors\n",
        "scalar = tf.constant(7)\n",
        "vector = tf.constant([7, 8, 9])\n",
        "matrix = tf.constant([[1, 2], [3, 4]])\n",
        "\n",
        "# Format the table using raw string\n",
        "table = f\"\"\"\n",
        "╒══════════════╤════════════╤════════╤══════════════════════════╕\n",
        "│ Tensor Type  │ Value      │ Shape  │ Rank (No. of dimensions) │\n",
        "╞══════════════╪════════════╪════════╪══════════════════════════╡\n",
        "│ Scalar       │ {str(scalar.numpy()):<10} │ {str(scalar.shape):<6} │ {tf.rank(scalar).numpy():<24} │\n",
        "│ Vector       │ {str(vector.numpy().tolist()):<10} │ {str(vector.shape):<6} │ {tf.rank(vector).numpy():<24} │\n",
        "│ Matrix       │ {str(matrix.numpy().tolist()[0]):<10} │ {str(matrix.shape):<6} │ {tf.rank(matrix).numpy():<24} │\n",
        "│              │ {str(matrix.numpy().tolist()[1]):<10} │        │                          │\n",
        "╘══════════════╧════════════╧════════╧══════════════════════════╛\n",
        "\"\"\"\n",
        "\n",
        "print(table)\n"
      ],
      "metadata": {
        "colab": {
          "base_uri": "https://localhost:8080/"
        },
        "id": "OUfAM8Ao5SL2",
        "outputId": "e90d5c92-769c-4fe0-e69b-917a286e642b"
      },
      "execution_count": 14,
      "outputs": [
        {
          "output_type": "stream",
          "name": "stdout",
          "text": [
            "\n",
            "╒══════════════╤════════════╤════════╤══════════════════════════╕\n",
            "│ Tensor Type  │ Value      │ Shape  │ Rank (No. of dimensions) │\n",
            "╞══════════════╪════════════╪════════╪══════════════════════════╡\n",
            "│ Scalar       │ 7          │ ()     │ 0                        │\n",
            "│ Vector       │ [7, 8, 9]  │ (3,)   │ 1                        │\n",
            "│ Matrix       │ [1, 2]     │ (2, 2) │ 2                        │\n",
            "│              │ [3, 4]     │        │                          │\n",
            "╘══════════════╧════════════╧════════╧══════════════════════════╛\n",
            "\n"
          ]
        }
      ]
    },
    {
      "cell_type": "code",
      "source": [
        "# Create tensors with tf.constant()\n",
        "scalar = tf.constant(7)\n",
        "scalar"
      ],
      "metadata": {
        "colab": {
          "base_uri": "https://localhost:8080/"
        },
        "id": "971NaEg612VY",
        "outputId": "d0113282-f9f7-44eb-e31a-e0949800c1e8"
      },
      "execution_count": 8,
      "outputs": [
        {
          "output_type": "execute_result",
          "data": {
            "text/plain": [
              "<tf.Tensor: shape=(), dtype=int32, numpy=7>"
            ]
          },
          "metadata": {},
          "execution_count": 8
        }
      ]
    },
    {
      "cell_type": "code",
      "source": [
        "# Check the number of dimensions of a tensor (ndim stands for number of dimensions)\n",
        "scalar.ndim"
      ],
      "metadata": {
        "colab": {
          "base_uri": "https://localhost:8080/"
        },
        "id": "3mzhGUfb2Xhv",
        "outputId": "49b0f66f-f944-40ab-be3c-18c1e864759d"
      },
      "execution_count": 9,
      "outputs": [
        {
          "output_type": "execute_result",
          "data": {
            "text/plain": [
              "0"
            ]
          },
          "metadata": {},
          "execution_count": 9
        }
      ]
    },
    {
      "cell_type": "code",
      "source": [
        "# Create a Vector\n",
        "vector = tf.constant([10,10])\n",
        "vector"
      ],
      "metadata": {
        "colab": {
          "base_uri": "https://localhost:8080/"
        },
        "id": "ffCrp9Ie29eT",
        "outputId": "ee05532f-1781-4cce-fdad-c69d9fd0d8ec"
      },
      "execution_count": 10,
      "outputs": [
        {
          "output_type": "execute_result",
          "data": {
            "text/plain": [
              "<tf.Tensor: shape=(2,), dtype=int32, numpy=array([10, 10], dtype=int32)>"
            ]
          },
          "metadata": {},
          "execution_count": 10
        }
      ]
    },
    {
      "cell_type": "code",
      "source": [
        "# Check the dimension of our vector\n",
        "vector.ndim"
      ],
      "metadata": {
        "colab": {
          "base_uri": "https://localhost:8080/"
        },
        "id": "hIYYjABb3JZq",
        "outputId": "d3965ae7-6ba4-47a6-f4ff-4fb09d10a8d5"
      },
      "execution_count": 11,
      "outputs": [
        {
          "output_type": "execute_result",
          "data": {
            "text/plain": [
              "1"
            ]
          },
          "metadata": {},
          "execution_count": 11
        }
      ]
    },
    {
      "cell_type": "code",
      "source": [
        "# Create a matrix which has more than 1-Dimension.\n",
        "matrix = tf.constant([[10, 7], [7, 10]])\n",
        "matrix"
      ],
      "metadata": {
        "colab": {
          "base_uri": "https://localhost:8080/"
        },
        "id": "DeIbzCDS3h-I",
        "outputId": "9f02b606-f3c1-4583-f82b-fa23ee9581e8"
      },
      "execution_count": 19,
      "outputs": [
        {
          "output_type": "execute_result",
          "data": {
            "text/plain": [
              "<tf.Tensor: shape=(2, 2), dtype=int32, numpy=\n",
              "array([[10,  7],\n",
              "       [ 7, 10]], dtype=int32)>"
            ]
          },
          "metadata": {},
          "execution_count": 19
        }
      ]
    },
    {
      "cell_type": "code",
      "source": [
        "matrix.ndim"
      ],
      "metadata": {
        "colab": {
          "base_uri": "https://localhost:8080/"
        },
        "id": "WH3vfqbq57va",
        "outputId": "8c380b2e-13cf-497b-83cb-8780a24aaaee"
      },
      "execution_count": 16,
      "outputs": [
        {
          "output_type": "execute_result",
          "data": {
            "text/plain": [
              "2"
            ]
          },
          "metadata": {},
          "execution_count": 16
        }
      ]
    },
    {
      "cell_type": "code",
      "source": [
        "# Create another matrix\n",
        "another_matrix = tf.constant([[10., 7.], [3., 2.], [8., 9.]], dtype=tf.float16)\n",
        "another_matrix"
      ],
      "metadata": {
        "colab": {
          "base_uri": "https://localhost:8080/"
        },
        "id": "AYTzd38a6BDv",
        "outputId": "73e64d0e-f442-44d6-8ddb-eefb4d7eba10"
      },
      "execution_count": 24,
      "outputs": [
        {
          "output_type": "execute_result",
          "data": {
            "text/plain": [
              "<tf.Tensor: shape=(3, 2), dtype=float16, numpy=\n",
              "array([[10.,  7.],\n",
              "       [ 3.,  2.],\n",
              "       [ 8.,  9.]], dtype=float16)>"
            ]
          },
          "metadata": {},
          "execution_count": 24
        }
      ]
    },
    {
      "cell_type": "code",
      "source": [
        "another_matrix.ndim"
      ],
      "metadata": {
        "colab": {
          "base_uri": "https://localhost:8080/"
        },
        "id": "cWQ6bocx6ZjU",
        "outputId": "22db1a0c-be3d-45a5-ad20-95c7d3e06d47"
      },
      "execution_count": 25,
      "outputs": [
        {
          "output_type": "execute_result",
          "data": {
            "text/plain": [
              "2"
            ]
          },
          "metadata": {},
          "execution_count": 25
        }
      ]
    },
    {
      "cell_type": "code",
      "source": [
        "#Creating a Tensor\n",
        "tensor = tf.constant([[[1 , 2 , 3] , [4 , 5 , 6]],\n",
        "                      [[7 , 8 , 9] , [10 , 11 , 12]],\n",
        "                      [[13 ,14 , 15] , [16 , 17 , 18]]\n",
        "                     ])\n",
        "tensor"
      ],
      "metadata": {
        "colab": {
          "base_uri": "https://localhost:8080/"
        },
        "id": "2_QaaDD96-EK",
        "outputId": "d3d4fe62-220d-4071-e556-e07623f7a18b"
      },
      "execution_count": 26,
      "outputs": [
        {
          "output_type": "execute_result",
          "data": {
            "text/plain": [
              "<tf.Tensor: shape=(3, 2, 3), dtype=int32, numpy=\n",
              "array([[[ 1,  2,  3],\n",
              "        [ 4,  5,  6]],\n",
              "\n",
              "       [[ 7,  8,  9],\n",
              "        [10, 11, 12]],\n",
              "\n",
              "       [[13, 14, 15],\n",
              "        [16, 17, 18]]], dtype=int32)>"
            ]
          },
          "metadata": {},
          "execution_count": 26
        }
      ]
    },
    {
      "cell_type": "code",
      "source": [
        "tensor.ndim"
      ],
      "metadata": {
        "colab": {
          "base_uri": "https://localhost:8080/"
        },
        "id": "nasg255W8mFg",
        "outputId": "37c4c357-73cc-4270-8c56-4db81425a62f"
      },
      "execution_count": 27,
      "outputs": [
        {
          "output_type": "execute_result",
          "data": {
            "text/plain": [
              "3"
            ]
          },
          "metadata": {},
          "execution_count": 27
        }
      ]
    },
    {
      "cell_type": "markdown",
      "source": [
        "### What we've created so far?\n",
        "\n",
        "* **Scalar**: a single number\n",
        "* **Vector**: a number with direction(eg. wind speed and direction)\n",
        "* **Matrix**: a 2-dimensional array of numbers\n",
        "* **Tensor**: an n-dimensional array of numbers(when n can be any number , a 0-dimensional tensor is a scalar , a 1-dimensional tensor is a vector)\n"
      ],
      "metadata": {
        "id": "gBMuiBfu9UnR"
      }
    },
    {
      "cell_type": "code",
      "source": [],
      "metadata": {
        "id": "krxJdslg9Fp5"
      },
      "execution_count": null,
      "outputs": []
    }
  ]
}